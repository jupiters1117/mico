{
  "cells": [
    {
      "cell_type": "code",
      "execution_count": null,
      "metadata": {
        "collapsed": false
      },
      "outputs": [],
      "source": [
        "%matplotlib inline"
      ]
    },
    {
      "cell_type": "markdown",
      "metadata": {},
      "source": [
        "\nConic optimization approach for feature selection\n=================================================\n\nAn introductory example that demonstrates how to perform feature selection using :class:`mico.MutualInformationConicOptimization`.\n\n"
      ]
    },
    {
      "cell_type": "code",
      "execution_count": null,
      "metadata": {
        "collapsed": false
      },
      "outputs": [],
      "source": [
        "from mico import MutualInformationConicOptimization\nimport pandas as pd\nfrom sklearn.datasets import load_breast_cancer, load_diabetes\n\n\ndef test_mico_classification():\n\n    print(\"=\" * 80)\n    print(\"Start classification example.\")\n    print(\"=\" * 80)\n\n    # Prepare data.\n    data = load_breast_cancer()\n    y = data.target\n    X = pd.DataFrame(data.data, columns=data.feature_names)\n\n    # Perform feature selection.\n    mico = MutualInformationConicOptimization(verbose=2, categorical=True, n_features=7)\n    mico.fit(X, y)\n\n    print(\"-\" * 80)\n    print(\"Populate results.\")\n    # Populate selected features.\n    print(\" - Selected features: \\n{}\".format(mico.get_support()))\n    # Populate feature importance scores.\n    print(\" - Feature importance scores: \\n{}\".format(mico.feature_importances_))\n    # Call transform() on X.\n    X_transformed = mico.transform(X)\n    print(\" - X_transformed: \\n{}\".format(X_transformed))\n\n\ndef test_mico_regression():\n\n    print(\"=\" * 80)\n    print(\"Start regression example.\")\n    print(\"=\" * 80)\n\n    # Prepare data.\n    data = load_diabetes()\n    y = data.target\n    X = pd.DataFrame(data.data, columns=data.feature_names)\n    print(X)\n    print(y)\n\n    # Perform feature selection.\n    mico = MutualInformationConicOptimization(verbose=2, num_bins=0, categorical=False, n_features=5)\n    mico.fit(X, y)\n\n    print(\"-\" * 80)\n    print(\"Populate results.\")\n    # Populate selected features.\n    print(\" - Selected features: \\n{}\".format(mico.get_support()))\n    # Populate feature importance scores.\n    print(\" - Feature importance scores: \\n{}\".format(mico.feature_importances_))\n    # Call transform() on X.\n    X_transformed = mico.transform(X)\n    print(\" - X_transformed: \\n{}\".format(X_transformed))\n\n\nif __name__ == '__main__':\n    test_mico_classification()\n    test_mico_regression()"
      ]
    }
  ],
  "metadata": {
    "kernelspec": {
      "display_name": "Python 3",
      "language": "python",
      "name": "python3"
    },
    "language_info": {
      "codemirror_mode": {
        "name": "ipython",
        "version": 3
      },
      "file_extension": ".py",
      "mimetype": "text/x-python",
      "name": "python",
      "nbconvert_exporter": "python",
      "pygments_lexer": "ipython3",
      "version": "3.6.9"
    }
  },
  "nbformat": 4,
  "nbformat_minor": 0
}